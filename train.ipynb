{
 "cells": [
  {
   "cell_type": "code",
   "execution_count": 3,
   "metadata": {},
   "outputs": [],
   "source": [
    "from pytorch_lightning import Trainer\n",
    "from pytorch_lightning.loggers import TensorBoardLogger\n",
    "import pytorch_lightning as pl\n",
    "from src.pcd_de_noising import MistNet\n",
    "from src.pcd_de_noising import PCDDataset, PointCloudDataModule\n",
    "from torch.utils.data import DataLoader\n",
    "import os\n",
    "import torch\n",
    "import numpy as np\n",
    "import time"
   ]
  },
  {
   "cell_type": "code",
   "execution_count": 4,
   "metadata": {},
   "outputs": [
    {
     "name": "stdout",
     "output_type": "stream",
     "text": [
      "2.1.2.post3\n",
      "mps\n"
     ]
    }
   ],
   "source": [
    "print(torch.__version__)\n",
    "# 判断是否支持MPS\n",
    "device = \"mps\" if torch.backends.mps.is_available() else \"cpu\"\n",
    "print(device)"
   ]
  },
  {
   "cell_type": "markdown",
   "metadata": {},
   "source": [
    "# Configuration"
   ]
  },
  {
   "cell_type": "code",
   "execution_count": 5,
   "metadata": {},
   "outputs": [],
   "source": [
    "NUMBER_GPUS = 1\n",
    "DATASET_PATH = \"./data\""
   ]
  },
  {
   "cell_type": "markdown",
   "metadata": {},
   "source": [
    "# Logging"
   ]
  },
  {
   "cell_type": "code",
   "execution_count": 6,
   "metadata": {},
   "outputs": [],
   "source": [
    "# Create Tensorboard logger\n",
    "logger = TensorBoardLogger(\"./log\", name=\"MistNet\")"
   ]
  },
  {
   "cell_type": "markdown",
   "metadata": {},
   "source": [
    "# Model"
   ]
  },
  {
   "cell_type": "markdown",
   "metadata": {},
   "source": [
    "### Create new model"
   ]
  },
  {
   "cell_type": "code",
   "execution_count": 5,
   "metadata": {},
   "outputs": [],
   "source": [
    "model = MistNet()"
   ]
  },
  {
   "cell_type": "markdown",
   "metadata": {},
   "source": [
    "### Load from checkpoint"
   ]
  },
  {
   "cell_type": "code",
   "execution_count": 7,
   "metadata": {},
   "outputs": [],
   "source": [
    "model = MistNet.load_from_checkpoint(\n",
    "    \"log/MistNet/set-8/checkpoints/epoch=17-step=1908.ckpt\")"
   ]
  },
  {
   "cell_type": "markdown",
   "metadata": {},
   "source": [
    "# Prepare Data"
   ]
  },
  {
   "cell_type": "code",
   "execution_count": 8,
   "metadata": {},
   "outputs": [],
   "source": [
    "data_module = PointCloudDataModule(\n",
    "    os.path.join(DATASET_PATH, \"train\"),\n",
    "    os.path.join(DATASET_PATH, \"val\"),\n",
    "    os.path.join(DATASET_PATH, \"test\")\n",
    ")"
   ]
  },
  {
   "cell_type": "markdown",
   "metadata": {},
   "source": [
    "# Overfit"
   ]
  },
  {
   "cell_type": "code",
   "execution_count": 18,
   "metadata": {},
   "outputs": [
    {
     "name": "stderr",
     "output_type": "stream",
     "text": [
      "GPU available: True (mps), used: True\n",
      "TPU available: False, using: 0 TPU cores\n",
      "IPU available: False, using: 0 IPUs\n",
      "HPU available: False, using: 0 HPUs\n"
     ]
    }
   ],
   "source": [
    "trainer = pl.Trainer(\n",
    "    logger=logger,\n",
    "    overfit_batches=51,\n",
    "    max_epochs=50,\n",
    "    log_every_n_steps=1\n",
    ")"
   ]
  },
  {
   "cell_type": "code",
   "execution_count": 19,
   "metadata": {},
   "outputs": [
    {
     "name": "stderr",
     "output_type": "stream",
     "text": [
      "\n",
      "  | Name              | Type                       | Params\n",
      "-----------------------------------------------------------------\n",
      "0 | lila1             | LiLaBlock                  | 55.1 K\n",
      "1 | lila2             | LiLaBlock                  | 804 K \n",
      "2 | lila3             | LiLaBlock                  | 2.2 M \n",
      "3 | lila4             | LiLaBlock                  | 4.2 M \n",
      "4 | dropout           | Dropout2d                  | 0     \n",
      "5 | lila5             | LiLaBlock                  | 2.0 M \n",
      "6 | classifier        | Conv2d                     | 387   \n",
      "7 | accuracy          | MulticlassAccuracy         | 0     \n",
      "8 | average_precision | MulticlassAveragePrecision | 0     \n",
      "-----------------------------------------------------------------\n",
      "9.3 M     Trainable params\n",
      "0         Non-trainable params\n",
      "9.3 M     Total params\n",
      "37.281    Total estimated model params size (MB)\n"
     ]
    },
    {
     "name": "stdout",
     "output_type": "stream",
     "text": [
      "Sanity Checking: |          | 0/? [00:00<?, ?it/s]Val found 51 files\n"
     ]
    },
    {
     "name": "stderr",
     "output_type": "stream",
     "text": [
      "/Users/xavier/micromamba/envs/pcd-de-noising/lib/python3.12/site-packages/pytorch_lightning/trainer/connectors/data_connector.py:436: Consider setting `persistent_workers=True` in 'val_dataloader' to speed up the dataloader worker initialization.\n"
     ]
    },
    {
     "name": "stdout",
     "output_type": "stream",
     "text": [
      "Train found 51 files                                                       \n"
     ]
    },
    {
     "name": "stderr",
     "output_type": "stream",
     "text": [
      "/Users/xavier/micromamba/envs/pcd-de-noising/lib/python3.12/site-packages/pytorch_lightning/trainer/connectors/data_connector.py:268: You requested to overfit but enabled train dataloader shuffling. We are turning off the train dataloader shuffling for you.\n",
      "/Users/xavier/micromamba/envs/pcd-de-noising/lib/python3.12/site-packages/pytorch_lightning/trainer/connectors/data_connector.py:436: Consider setting `persistent_workers=True` in 'train_dataloader' to speed up the dataloader worker initialization.\n"
     ]
    },
    {
     "name": "stdout",
     "output_type": "stream",
     "text": [
      "Epoch 49: 100%|██████████| 13/13 [00:55<00:00,  0.23it/s, v_num=0]"
     ]
    },
    {
     "name": "stderr",
     "output_type": "stream",
     "text": [
      "`Trainer.fit` stopped: `max_epochs=50` reached.\n"
     ]
    },
    {
     "name": "stdout",
     "output_type": "stream",
     "text": [
      "Epoch 49: 100%|██████████| 13/13 [00:55<00:00,  0.23it/s, v_num=0]\n"
     ]
    }
   ],
   "source": [
    "trainer.fit(model, data_module)"
   ]
  },
  {
   "cell_type": "markdown",
   "metadata": {},
   "source": [
    "# Train"
   ]
  },
  {
   "cell_type": "code",
   "execution_count": 9,
   "metadata": {},
   "outputs": [
    {
     "name": "stderr",
     "output_type": "stream",
     "text": [
      "GPU available: True (mps), used: True\n",
      "TPU available: False, using: 0 TPU cores\n",
      "IPU available: False, using: 0 IPUs\n",
      "HPU available: False, using: 0 HPUs\n"
     ]
    }
   ],
   "source": [
    "trainer = pl.Trainer(\n",
    "    logger=logger,\n",
    "    max_epochs=50,\n",
    "    log_every_n_steps=1,\n",
    ")"
   ]
  },
  {
   "cell_type": "code",
   "execution_count": 10,
   "metadata": {},
   "outputs": [
    {
     "name": "stderr",
     "output_type": "stream",
     "text": [
      "\n",
      "  | Name              | Type                       | Params\n",
      "-----------------------------------------------------------------\n",
      "0 | lila1             | LiLaBlock                  | 72.4 K\n",
      "1 | lila2             | LiLaBlock                  | 804 K \n",
      "2 | lila3             | LiLaBlock                  | 2.2 M \n",
      "3 | lila4             | LiLaBlock                  | 4.2 M \n",
      "4 | dropout           | Dropout2d                  | 0     \n",
      "5 | lila5             | LiLaBlock                  | 2.0 M \n",
      "6 | classifier        | Conv2d                     | 1.0 K \n",
      "7 | accuracy          | MulticlassAccuracy         | 0     \n",
      "8 | average_precision | MulticlassAveragePrecision | 0     \n",
      "-----------------------------------------------------------------\n",
      "9.3 M     Trainable params\n",
      "0         Non-trainable params\n",
      "9.3 M     Total params\n",
      "37.352    Total estimated model params size (MB)\n"
     ]
    },
    {
     "name": "stdout",
     "output_type": "stream",
     "text": [
      "Sanity Checking: |          | 0/? [00:00<?, ?it/s]Val found 413 files\n"
     ]
    },
    {
     "name": "stderr",
     "output_type": "stream",
     "text": [
      "/Users/xavier/micromamba/envs/pcd-de-noising/lib/python3.12/site-packages/pytorch_lightning/trainer/connectors/data_connector.py:436: Consider setting `persistent_workers=True` in 'val_dataloader' to speed up the dataloader worker initialization.\n"
     ]
    },
    {
     "name": "stdout",
     "output_type": "stream",
     "text": [
      "Train found 423 files                                                      \n"
     ]
    },
    {
     "name": "stderr",
     "output_type": "stream",
     "text": [
      "/Users/xavier/micromamba/envs/pcd-de-noising/lib/python3.12/site-packages/pytorch_lightning/trainer/connectors/data_connector.py:436: Consider setting `persistent_workers=True` in 'train_dataloader' to speed up the dataloader worker initialization.\n"
     ]
    },
    {
     "name": "stdout",
     "output_type": "stream",
     "text": [
      "Epoch 18:   0%|          | 0/106 [00:00<?, ?it/s, v_num=0]            "
     ]
    },
    {
     "name": "stderr",
     "output_type": "stream",
     "text": [
      "/Users/xavier/micromamba/envs/pcd-de-noising/lib/python3.12/site-packages/pytorch_lightning/trainer/call.py:54: Detected KeyboardInterrupt, attempting graceful shutdown...\n"
     ]
    }
   ],
   "source": [
    "trainer.fit(model, data_module)"
   ]
  },
  {
   "cell_type": "markdown",
   "metadata": {},
   "source": [
    "# Test"
   ]
  },
  {
   "cell_type": "code",
   "execution_count": 10,
   "metadata": {},
   "outputs": [
    {
     "name": "stdout",
     "output_type": "stream",
     "text": [
      "Test found 450 files\n"
     ]
    },
    {
     "name": "stderr",
     "output_type": "stream",
     "text": [
      "/Users/xavier/micromamba/envs/pcd-de-noising/lib/python3.12/site-packages/pytorch_lightning/trainer/connectors/data_connector.py:436: Consider setting `persistent_workers=True` in 'test_dataloader' to speed up the dataloader worker initialization.\n"
     ]
    },
    {
     "name": "stdout",
     "output_type": "stream",
     "text": [
      "Testing DataLoader 0:   0%|          | 0/113 [00:00<?, ?it/s]Logits max: 42.747650146484375 Logits min: -106.54153442382812\n"
     ]
    },
    {
     "name": "stderr",
     "output_type": "stream",
     "text": [
      "/Users/xavier/micromamba/envs/pcd-de-noising/lib/python3.12/site-packages/torchmetrics/utilities/prints.py:43: UserWarning: Average precision score for one or more classes was `nan`. Ignoring these classes in weighted-average\n",
      "  warnings.warn(*args, **kwargs)  # noqa: B028\n"
     ]
    },
    {
     "name": "stdout",
     "output_type": "stream",
     "text": [
      "Testing DataLoader 0:   1%|          | 1/113 [00:12<23:00,  0.08it/s]Logits max: 43.32609176635742 Logits min: -107.1644515991211\n",
      "Testing DataLoader 0:   2%|▏         | 2/113 [00:14<13:08,  0.14it/s]Logits max: 36.50265121459961 Logits min: -89.0057144165039\n",
      "Testing DataLoader 0:   3%|▎         | 3/113 [00:16<09:47,  0.19it/s]Logits max: 43.629730224609375 Logits min: -107.5193099975586\n",
      "Testing DataLoader 0:   4%|▎         | 4/113 [00:17<08:05,  0.22it/s]Logits max: 40.11933898925781 Logits min: -99.05892181396484\n",
      "Testing DataLoader 0:   4%|▍         | 5/113 [00:19<07:03,  0.25it/s]Logits max: 39.995697021484375 Logits min: -98.11582946777344\n",
      "Testing DataLoader 0:   5%|▌         | 6/113 [00:21<06:23,  0.28it/s]Logits max: 39.08781051635742 Logits min: -96.14478302001953\n",
      "Testing DataLoader 0:   6%|▌         | 7/113 [00:23<05:54,  0.30it/s]Logits max: 43.63658142089844 Logits min: -107.48239135742188\n",
      "Testing DataLoader 0:   7%|▋         | 8/113 [00:25<05:32,  0.32it/s]Logits max: 43.39561080932617 Logits min: -107.37459564208984\n",
      "Testing DataLoader 0:   8%|▊         | 9/113 [00:27<05:14,  0.33it/s]Logits max: 43.48017120361328 Logits min: -107.2380142211914\n",
      "Testing DataLoader 0:   9%|▉         | 10/113 [00:29<04:59,  0.34it/s]Logits max: 40.842491149902344 Logits min: -101.22332763671875\n",
      "Testing DataLoader 0:  10%|▉         | 11/113 [00:30<04:47,  0.35it/s]Logits max: 42.92334747314453 Logits min: -106.36797332763672\n",
      "Testing DataLoader 0:  11%|█         | 12/113 [00:33<04:38,  0.36it/s]Logits max: 46.702396392822266 Logits min: -116.30376434326172\n",
      "Testing DataLoader 0:  12%|█▏        | 13/113 [00:35<04:31,  0.37it/s]Logits max: 46.75374221801758 Logits min: -116.1902084350586\n",
      "Testing DataLoader 0:  12%|█▏        | 14/113 [00:37<04:24,  0.37it/s]Logits max: 46.70365905761719 Logits min: -116.013916015625\n",
      "Testing DataLoader 0:  13%|█▎        | 15/113 [00:39<04:18,  0.38it/s]Logits max: 45.775943756103516 Logits min: -114.30976104736328\n",
      "Testing DataLoader 0:  14%|█▍        | 16/113 [00:41<04:13,  0.38it/s]Logits max: 43.294342041015625 Logits min: -107.0459976196289\n",
      "Testing DataLoader 0:  15%|█▌        | 17/113 [00:43<04:08,  0.39it/s]Logits max: 45.25907897949219 Logits min: -112.95803833007812\n",
      "Testing DataLoader 0:  16%|█▌        | 18/113 [00:46<04:03,  0.39it/s]Logits max: 43.0539436340332 Logits min: -106.20645141601562\n",
      "Testing DataLoader 0:  17%|█▋        | 19/113 [00:48<03:59,  0.39it/s]Logits max: 42.904693603515625 Logits min: -105.94854736328125\n",
      "Testing DataLoader 0:  18%|█▊        | 20/113 [00:50<03:54,  0.40it/s]Logits max: 43.26475143432617 Logits min: -106.66535949707031\n",
      "Testing DataLoader 0:  19%|█▊        | 21/113 [00:52<03:50,  0.40it/s]Logits max: 46.95870590209961 Logits min: -118.1063461303711\n",
      "Testing DataLoader 0:  19%|█▉        | 22/113 [00:54<03:46,  0.40it/s]Logits max: 48.95146560668945 Logits min: -122.8911361694336\n",
      "Testing DataLoader 0:  20%|██        | 23/113 [00:56<03:42,  0.40it/s]Logits max: 48.58504867553711 Logits min: -121.76139068603516\n",
      "Testing DataLoader 0:  21%|██        | 24/113 [00:59<03:40,  0.40it/s]Logits max: 46.80412292480469 Logits min: -116.19859313964844\n",
      "Testing DataLoader 0:  22%|██▏       | 25/113 [01:01<03:38,  0.40it/s]Logits max: 47.101505279541016 Logits min: -118.50332641601562\n",
      "Testing DataLoader 0:  23%|██▎       | 26/113 [01:04<03:36,  0.40it/s]Logits max: 47.99717712402344 Logits min: -120.49786376953125\n",
      "Testing DataLoader 0:  24%|██▍       | 27/113 [01:07<03:35,  0.40it/s]Logits max: 46.79008102416992 Logits min: -116.17166900634766\n",
      "Testing DataLoader 0:  25%|██▍       | 28/113 [01:10<03:33,  0.40it/s]Logits max: 47.02068328857422 Logits min: -118.2431640625\n",
      "Testing DataLoader 0:  26%|██▌       | 29/113 [01:13<03:32,  0.40it/s]Logits max: 46.938602447509766 Logits min: -118.01527404785156\n",
      "Testing DataLoader 0:  27%|██▋       | 30/113 [01:16<03:30,  0.39it/s]Logits max: 46.83378982543945 Logits min: -116.27433013916016\n",
      "Testing DataLoader 0:  27%|██▋       | 31/113 [01:18<03:28,  0.39it/s]Logits max: 46.861759185791016 Logits min: -116.42098999023438\n",
      "Testing DataLoader 0:  28%|██▊       | 32/113 [01:21<03:26,  0.39it/s]Logits max: 46.860877990722656 Logits min: -116.36605072021484\n",
      "Testing DataLoader 0:  29%|██▉       | 33/113 [01:24<03:24,  0.39it/s]Logits max: 43.6995735168457 Logits min: -107.72407531738281\n",
      "Testing DataLoader 0:  30%|███       | 34/113 [01:27<03:22,  0.39it/s]Logits max: 45.48409652709961 Logits min: -113.46051025390625\n",
      "Testing DataLoader 0:  31%|███       | 35/113 [01:29<03:20,  0.39it/s]Logits max: 46.32640838623047 Logits min: -115.83123779296875\n",
      "Testing DataLoader 0:  32%|███▏      | 36/113 [01:32<03:18,  0.39it/s]Logits max: 43.76893997192383 Logits min: -107.89126586914062\n",
      "Testing DataLoader 0:  33%|███▎      | 37/113 [01:35<03:16,  0.39it/s]Logits max: 42.25366973876953 Logits min: -105.03855895996094\n",
      "Testing DataLoader 0:  34%|███▎      | 38/113 [01:38<03:13,  0.39it/s]Logits max: 38.89146041870117 Logits min: -95.66411590576172\n",
      "Testing DataLoader 0:  35%|███▍      | 39/113 [01:40<03:11,  0.39it/s]Logits max: 40.100093841552734 Logits min: -98.31185913085938\n",
      "Testing DataLoader 0:  35%|███▌      | 40/113 [01:43<03:09,  0.39it/s]Logits max: 40.85015106201172 Logits min: -101.30176544189453\n",
      "Testing DataLoader 0:  36%|███▋      | 41/113 [01:46<03:07,  0.38it/s]Logits max: 43.62982177734375 Logits min: -107.70685577392578\n",
      "Testing DataLoader 0:  37%|███▋      | 42/113 [01:49<03:04,  0.38it/s]Logits max: 43.6826286315918 Logits min: -107.70050048828125\n",
      "Testing DataLoader 0:  38%|███▊      | 43/113 [01:51<03:02,  0.38it/s]Logits max: 43.65288162231445 Logits min: -107.50560760498047\n",
      "Testing DataLoader 0:  39%|███▉      | 44/113 [01:54<02:59,  0.38it/s]Logits max: 43.282161712646484 Logits min: -107.48056030273438\n",
      "Testing DataLoader 0:  40%|███▉      | 45/113 [01:57<02:57,  0.38it/s]Logits max: 43.784873962402344 Logits min: -107.99083709716797\n",
      "Testing DataLoader 0:  41%|████      | 46/113 [02:00<02:55,  0.38it/s]Logits max: 39.670345306396484 Logits min: -97.32828521728516\n",
      "Testing DataLoader 0:  42%|████▏     | 47/113 [02:02<02:52,  0.38it/s]Logits max: 40.910194396972656 Logits min: -101.57794952392578\n",
      "Testing DataLoader 0:  42%|████▏     | 48/113 [02:05<02:50,  0.38it/s]Logits max: 36.81513214111328 Logits min: -89.7143783569336\n",
      "Testing DataLoader 0:  43%|████▎     | 49/113 [02:09<02:48,  0.38it/s]Logits max: 38.8575325012207 Logits min: -95.66067504882812\n",
      "Testing DataLoader 0:  44%|████▍     | 50/113 [02:13<02:47,  0.38it/s]Logits max: 36.14875030517578 Logits min: -88.33113861083984\n",
      "Testing DataLoader 0:  45%|████▌     | 51/113 [02:16<02:46,  0.37it/s]Logits max: 39.540809631347656 Logits min: -97.21257019042969\n",
      "Testing DataLoader 0:  46%|████▌     | 52/113 [02:20<02:44,  0.37it/s]Logits max: 33.3427619934082 Logits min: -83.73938751220703\n",
      "Testing DataLoader 0:  47%|████▋     | 53/113 [02:24<02:43,  0.37it/s]Logits max: 39.82847213745117 Logits min: -98.0140151977539\n",
      "Testing DataLoader 0:  48%|████▊     | 54/113 [02:28<02:41,  0.36it/s]Logits max: 40.832210540771484 Logits min: -102.36109924316406\n",
      "Testing DataLoader 0:  49%|████▊     | 55/113 [02:32<02:40,  0.36it/s]Logits max: 42.13179016113281 Logits min: -104.50105285644531\n",
      "Testing DataLoader 0:  50%|████▉     | 56/113 [02:35<02:38,  0.36it/s]Logits max: 43.6640739440918 Logits min: -107.89586639404297\n",
      "Testing DataLoader 0:  50%|█████     | 57/113 [02:39<02:37,  0.36it/s]Logits max: 43.915157318115234 Logits min: -108.28277587890625\n",
      "Testing DataLoader 0:  51%|█████▏    | 58/113 [02:43<02:35,  0.35it/s]Logits max: 43.36090850830078 Logits min: -107.05274200439453\n",
      "Testing DataLoader 0:  52%|█████▏    | 59/113 [02:47<02:33,  0.35it/s]Logits max: 43.76994323730469 Logits min: -107.87637329101562\n",
      "Testing DataLoader 0:  53%|█████▎    | 60/113 [02:51<02:31,  0.35it/s]Logits max: 43.874027252197266 Logits min: -108.11923217773438\n",
      "Testing DataLoader 0:  54%|█████▍    | 61/113 [02:55<02:29,  0.35it/s]Logits max: 43.81267166137695 Logits min: -108.0259017944336\n",
      "Testing DataLoader 0:  55%|█████▍    | 62/113 [02:59<02:27,  0.35it/s]Logits max: 43.193878173828125 Logits min: -106.78923034667969\n",
      "Testing DataLoader 0:  56%|█████▌    | 63/113 [03:03<02:25,  0.34it/s]Logits max: 41.13010025024414 Logits min: -102.39112854003906\n",
      "Testing DataLoader 0:  57%|█████▋    | 64/113 [03:07<02:23,  0.34it/s]Logits max: 43.07037353515625 Logits min: -106.11878204345703\n",
      "Testing DataLoader 0:  58%|█████▊    | 65/113 [03:11<02:21,  0.34it/s]Logits max: 40.357852935791016 Logits min: -98.98847961425781\n",
      "Testing DataLoader 0:  58%|█████▊    | 66/113 [03:15<02:19,  0.34it/s]Logits max: 42.98094940185547 Logits min: -106.8740463256836\n",
      "Testing DataLoader 0:  59%|█████▉    | 67/113 [03:19<02:16,  0.34it/s]Logits max: 42.427913665771484 Logits min: -105.31892395019531\n",
      "Testing DataLoader 0:  60%|██████    | 68/113 [03:23<02:14,  0.33it/s]Logits max: 39.857887268066406 Logits min: -98.44026947021484\n",
      "Testing DataLoader 0:  61%|██████    | 69/113 [03:27<02:12,  0.33it/s]Logits max: 32.778079986572266 Logits min: -79.56377410888672\n",
      "Testing DataLoader 0:  62%|██████▏   | 70/113 [03:31<02:09,  0.33it/s]Logits max: 43.879520416259766 Logits min: -108.18549346923828\n",
      "Testing DataLoader 0:  63%|██████▎   | 71/113 [03:35<02:07,  0.33it/s]Logits max: 41.136661529541016 Logits min: -101.98941040039062\n",
      "Testing DataLoader 0:  64%|██████▎   | 72/113 [03:39<02:04,  0.33it/s]Logits max: 41.784202575683594 Logits min: -103.49678802490234\n",
      "Testing DataLoader 0:  65%|██████▍   | 73/113 [03:43<02:02,  0.33it/s]Logits max: 40.247318267822266 Logits min: -98.75031280517578\n",
      "Testing DataLoader 0:  65%|██████▌   | 74/113 [03:47<01:59,  0.33it/s]Logits max: 42.21382141113281 Logits min: -104.7928466796875\n",
      "Testing DataLoader 0:  66%|██████▋   | 75/113 [03:51<01:57,  0.32it/s]Logits max: 40.07316207885742 Logits min: -98.28579711914062\n",
      "Testing DataLoader 0:  67%|██████▋   | 76/113 [03:55<01:54,  0.32it/s]Logits max: 43.23988723754883 Logits min: -107.37269592285156\n",
      "Testing DataLoader 0:  68%|██████▊   | 77/113 [03:59<01:52,  0.32it/s]Logits max: 44.00585174560547 Logits min: -108.4426498413086\n",
      "Testing DataLoader 0:  69%|██████▉   | 78/113 [04:03<01:49,  0.32it/s]Logits max: 44.0382080078125 Logits min: -108.52687072753906\n",
      "Testing DataLoader 0:  70%|██████▉   | 79/113 [04:07<01:46,  0.32it/s]Logits max: 46.00778579711914 Logits min: -114.77969360351562\n",
      "Testing DataLoader 0:  71%|███████   | 80/113 [04:11<01:43,  0.32it/s]Logits max: 44.047672271728516 Logits min: -108.54512023925781\n",
      "Testing DataLoader 0:  72%|███████▏  | 81/113 [04:15<01:41,  0.32it/s]Logits max: 43.95387649536133 Logits min: -108.42005157470703\n",
      "Testing DataLoader 0:  73%|███████▎  | 82/113 [04:19<01:38,  0.32it/s]Logits max: 46.15916442871094 Logits min: -115.29248809814453\n",
      "Testing DataLoader 0:  73%|███████▎  | 83/113 [04:23<01:35,  0.31it/s]Logits max: 44.01214599609375 Logits min: -108.7918472290039\n",
      "Testing DataLoader 0:  74%|███████▍  | 84/113 [04:27<01:32,  0.31it/s]Logits max: 44.12749481201172 Logits min: -110.69098663330078\n",
      "Testing DataLoader 0:  75%|███████▌  | 85/113 [04:31<01:29,  0.31it/s]Logits max: 43.696266174316406 Logits min: -108.20416259765625\n",
      "Testing DataLoader 0:  76%|███████▌  | 86/113 [04:35<01:26,  0.31it/s]Logits max: 43.44546890258789 Logits min: -107.10969543457031\n",
      "Testing DataLoader 0:  77%|███████▋  | 87/113 [04:39<01:23,  0.31it/s]Logits max: 43.9617805480957 Logits min: -108.28932189941406\n",
      "Testing DataLoader 0:  78%|███████▊  | 88/113 [04:43<01:20,  0.31it/s]Logits max: 46.31879425048828 Logits min: -115.32403564453125\n",
      "Testing DataLoader 0:  79%|███████▉  | 89/113 [04:47<01:17,  0.31it/s]Logits max: 43.94740295410156 Logits min: -108.4349594116211\n",
      "Testing DataLoader 0:  80%|███████▉  | 90/113 [04:51<01:14,  0.31it/s]Logits max: 43.815303802490234 Logits min: -108.07725524902344\n",
      "Testing DataLoader 0:  81%|████████  | 91/113 [04:55<01:11,  0.31it/s]Logits max: 43.252532958984375 Logits min: -106.86537170410156\n",
      "Testing DataLoader 0:  81%|████████▏ | 92/113 [04:59<01:08,  0.31it/s]Logits max: 46.3670768737793 Logits min: -115.41727447509766\n",
      "Testing DataLoader 0:  82%|████████▏ | 93/113 [05:03<01:05,  0.31it/s]Logits max: 44.044124603271484 Logits min: -108.5465087890625\n",
      "Testing DataLoader 0:  83%|████████▎ | 94/113 [05:08<01:02,  0.31it/s]Logits max: 46.951568603515625 Logits min: -117.02301025390625\n",
      "Testing DataLoader 0:  84%|████████▍ | 95/113 [05:12<00:59,  0.30it/s]Logits max: 47.09855651855469 Logits min: -116.9232177734375\n",
      "Testing DataLoader 0:  85%|████████▍ | 96/113 [05:16<00:56,  0.30it/s]Logits max: 47.03824234008789 Logits min: -116.76624298095703\n",
      "Testing DataLoader 0:  86%|████████▌ | 97/113 [05:20<00:52,  0.30it/s]Logits max: 47.118141174316406 Logits min: -117.08193969726562\n",
      "Testing DataLoader 0:  87%|████████▋ | 98/113 [05:25<00:49,  0.30it/s]Logits max: 46.57862854003906 Logits min: -115.72953033447266\n",
      "Testing DataLoader 0:  88%|████████▊ | 99/113 [05:30<00:46,  0.30it/s]Logits max: 47.05046081542969 Logits min: -116.88848876953125\n",
      "Testing DataLoader 0:  88%|████████▊ | 100/113 [05:36<00:43,  0.30it/s]Logits max: 47.08090591430664 Logits min: -116.94407653808594\n",
      "Testing DataLoader 0:  89%|████████▉ | 101/113 [05:42<00:40,  0.30it/s]Logits max: 43.852718353271484 Logits min: -108.10868835449219\n",
      "Testing DataLoader 0:  90%|█████████ | 102/113 [05:47<00:37,  0.29it/s]Logits max: 45.507503509521484 Logits min: -113.5207290649414\n",
      "Testing DataLoader 0:  91%|█████████ | 103/113 [05:53<00:34,  0.29it/s]Logits max: 47.06873321533203 Logits min: -116.95488739013672\n",
      "Testing DataLoader 0:  92%|█████████▏| 104/113 [05:59<00:31,  0.29it/s]Logits max: 47.060977935791016 Logits min: -116.93289947509766\n",
      "Testing DataLoader 0:  93%|█████████▎| 105/113 [06:05<00:27,  0.29it/s]Logits max: 46.925994873046875 Logits min: -116.4662094116211\n",
      "Testing DataLoader 0:  94%|█████████▍| 106/113 [06:10<00:24,  0.29it/s]Logits max: 46.49055862426758 Logits min: -115.9024658203125\n",
      "Testing DataLoader 0:  95%|█████████▍| 107/113 [06:16<00:21,  0.28it/s]Logits max: 46.996826171875 Logits min: -116.75579833984375\n",
      "Testing DataLoader 0:  96%|█████████▌| 108/113 [06:22<00:17,  0.28it/s]Logits max: 45.95744323730469 Logits min: -114.3842544555664\n",
      "Testing DataLoader 0:  96%|█████████▋| 109/113 [06:27<00:14,  0.28it/s]Logits max: 46.04332733154297 Logits min: -115.3403091430664\n",
      "Testing DataLoader 0:  97%|█████████▋| 110/113 [06:33<00:10,  0.28it/s]Logits max: 46.775638580322266 Logits min: -116.36817169189453\n",
      "Testing DataLoader 0:  98%|█████████▊| 111/113 [06:38<00:07,  0.28it/s]Logits max: 43.942108154296875 Logits min: -109.94906616210938\n",
      "Testing DataLoader 0:  99%|█████████▉| 112/113 [06:44<00:03,  0.28it/s]Logits max: 43.621864318847656 Logits min: -107.51123809814453\n",
      "Testing DataLoader 0: 100%|██████████| 113/113 [06:54<00:00,  0.27it/s]\n",
      "────────────────────────────────────────────────────────────────────────────────────────────────────────────────────────\n",
      "       Test metric             DataLoader 0\n",
      "────────────────────────────────────────────────────────────────────────────────────────────────────────────────────────\n",
      "     test_acc_epoch         0.9933481812477112\n",
      "      test_ap_epoch         0.9466666579246521\n",
      "────────────────────────────────────────────────────────────────────────────────────────────────────────────────────────\n"
     ]
    },
    {
     "data": {
      "text/plain": [
       "[{'test_acc_epoch': 0.9933481812477112, 'test_ap_epoch': 0.9466666579246521}]"
      ]
     },
     "execution_count": 10,
     "metadata": {},
     "output_type": "execute_result"
    }
   ],
   "source": [
    "trainer.test(model, datamodule=data_module)"
   ]
  },
  {
   "cell_type": "markdown",
   "metadata": {},
   "source": [
    "# Measure Inference Time"
   ]
  },
  {
   "cell_type": "code",
   "execution_count": 17,
   "metadata": {},
   "outputs": [
    {
     "name": "stdout",
     "output_type": "stream",
     "text": [
      "Test found 2481 files\n",
      "Total 621 data to process\n"
     ]
    },
    {
     "ename": "KeyboardInterrupt",
     "evalue": "",
     "output_type": "error",
     "traceback": [
      "\u001b[0;31m---------------------------------------------------------------------------\u001b[0m",
      "\u001b[0;31mKeyboardInterrupt\u001b[0m                         Traceback (most recent call last)",
      "Cell \u001b[0;32mIn[17], line 28\u001b[0m\n\u001b[1;32m     25\u001b[0m \u001b[38;5;28;01mwith\u001b[39;00m torch\u001b[38;5;241m.\u001b[39mno_grad():\n\u001b[1;32m     26\u001b[0m     pred \u001b[38;5;241m=\u001b[39m model(distance_1, reflectivity_1, distance_2,\n\u001b[1;32m     27\u001b[0m                  reflectivity_2, distance_3, reflectivity_3)\n\u001b[0;32m---> 28\u001b[0m pred \u001b[38;5;241m=\u001b[39m \u001b[43mpred\u001b[49m\u001b[38;5;241;43m.\u001b[39;49m\u001b[43mcpu\u001b[49m\u001b[43m(\u001b[49m\u001b[43m)\u001b[49m\u001b[38;5;241m.\u001b[39mnumpy()  \u001b[38;5;66;03m# 将预测结果转移到CPU并转为NumPy数组\u001b[39;00m\n\u001b[1;32m     30\u001b[0m predicted_classes \u001b[38;5;241m=\u001b[39m np\u001b[38;5;241m.\u001b[39margmax(pred, axis\u001b[38;5;241m=\u001b[39m\u001b[38;5;241m1\u001b[39m)\n\u001b[1;32m     32\u001b[0m end_time \u001b[38;5;241m=\u001b[39m time\u001b[38;5;241m.\u001b[39mtime()  \u001b[38;5;66;03m# 记录结束时间\u001b[39;00m\n",
      "\u001b[0;31mKeyboardInterrupt\u001b[0m: "
     ]
    }
   ],
   "source": [
    "# 加载需要推断的点云数据并进行推理，然后保存结果\n",
    "data_module.setup(\"test\")\n",
    "test_loader = data_module.test_dataloader()\n",
    "# # 冻结模型: 关闭梯度更新\n",
    "# model.freeze()\n",
    "# 评估模式: 该模式会关闭Dropout等层\n",
    "model.eval()\n",
    "model.to(device)  # 将模型转移到MPS\n",
    "\n",
    "reps = len(test_loader)\n",
    "print(f\"Total {reps} data to process\")\n",
    "timings = [0] * len(test_loader)\n",
    "account = 1430\n",
    "\n",
    "for i, batch in enumerate(test_loader):\n",
    "    # 解包batch，并确保所有数据都移至正确的设备\n",
    "    distance_1 = batch[0].to(device)\n",
    "    reflectivity_1 = batch[1].to(device)\n",
    "    distance_2 = batch[2].to(device)\n",
    "    reflectivity_2 = batch[3].to(device)\n",
    "    distance_3 = batch[4].to(device)\n",
    "    reflectivity_3 = batch[5].to(device)\n",
    "\n",
    "    start_time = time.time()  # 记录开始时间\n",
    "    with torch.no_grad():\n",
    "        pred = model(distance_1, reflectivity_1, distance_2,\n",
    "                     reflectivity_2, distance_3, reflectivity_3)\n",
    "    pred = pred.cpu().numpy()  # 将预测结果转移到CPU并转为NumPy数组\n",
    "\n",
    "    predicted_classes = np.argmax(pred, axis=1)\n",
    "\n",
    "    end_time = time.time()  # 记录结束时间\n",
    "\n",
    "    elapsed_time = (end_time - start_time)/pred.shape[0]\n",
    "    timings[i] = elapsed_time  # 保存每次迭代的时间\n",
    "\n",
    "    # 保存结果到文件\n",
    "    for j in range(pred.shape[0]):\n",
    "        np.save(f\"./result/{account}.npy\", predicted_classes[j])\n",
    "        account += 1\n",
    "\n",
    "mean_time = np.mean(timings)\n",
    "print(f\"Mean time per image: {mean_time} seconds\")"
   ]
  },
  {
   "cell_type": "code",
   "execution_count": null,
   "metadata": {},
   "outputs": [],
   "source": [
    "loader = data_module.test_dataloader()\n",
    "start, end = torch.cuda.Event(enable_timing=True), torch.cuda.Event(enable_timing=True)\n",
    "reps = 100\n",
    "timings = [0] * reps\n",
    "\n",
    "distance, reflectivity, labels = next(iter(loader))\n",
    "distance = distance.cuda()\n",
    "reflectivity = reflectivity.cuda()\n",
    "labels = labels.cuda()\n",
    "\n",
    "for rep in range(reps):\n",
    "    start.record()\n",
    "    _ = model(distance, reflectivity)\n",
    "    end.record()\n",
    "\n",
    "    # Wait for GPU sync\n",
    "    torch.cuda.synchronize()\n",
    "    curr_time = start.elapsed_time(end)\n",
    "    timings[rep] = curr_time / 1000  # ms to s\n",
    "\n",
    "images_processed = reps * loader.batch_size\n",
    "mean_time = sum(timings) / images_processed\n",
    "f\"Mean inference time: {mean_time:.2f}s, mean FPS: {1 / mean_time:.2f}\""
   ]
  }
 ],
 "metadata": {
  "kernelspec": {
   "display_name": "Python 3",
   "language": "python",
   "name": "python3"
  },
  "language_info": {
   "codemirror_mode": {
    "name": "ipython",
    "version": 3
   },
   "file_extension": ".py",
   "mimetype": "text/x-python",
   "name": "python",
   "nbconvert_exporter": "python",
   "pygments_lexer": "ipython3",
   "version": "3.12.2"
  },
  "metadata": {
   "interpreter": {
    "hash": "a23a2d6909c68acaee8cdc174eaa8f4ab01509589aa59c1ab9b2bf57fe831546"
   }
  }
 },
 "nbformat": 4,
 "nbformat_minor": 2
}
