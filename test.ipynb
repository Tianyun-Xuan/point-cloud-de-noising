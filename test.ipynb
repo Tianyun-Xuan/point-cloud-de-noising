{
 "cells": [
  {
   "cell_type": "code",
   "execution_count": 1,
   "metadata": {},
   "outputs": [],
   "source": [
    "from pytorch_lightning import Trainer\n",
    "from pytorch_lightning.loggers import TensorBoardLogger\n",
    "import pytorch_lightning as pl\n",
    "from src.pcd_de_noising import MistNet\n",
    "from src.pcd_de_noising.model.lilanet import LiLaNet\n",
    "import torch"
   ]
  },
  {
   "cell_type": "code",
   "execution_count": 183,
   "metadata": {},
   "outputs": [
    {
     "name": "stdout",
     "output_type": "stream",
     "text": [
      "[]\n"
     ]
    }
   ],
   "source": [
    "import os\n",
    "dir = \"rayz/train\"\n",
    "name = []\n",
    "for i in range(1430, 1880):\n",
    "    filename = os.path.join(dir, f\"{i}.hdf5\")\n",
    "    if not os.path.exists(filename):\n",
    "        name.append(filename)\n",
    "\n",
    "print (name)"
   ]
  },
  {
   "cell_type": "code",
   "execution_count": 54,
   "metadata": {},
   "outputs": [
    {
     "name": "stdout",
     "output_type": "stream",
     "text": [
      "3911\n"
     ]
    }
   ],
   "source": [
    "import os\n",
    "dir = \"rayz/test\"\n",
    "\n",
    "file = os.listdir(dir)\n",
    "print (len(file))"
   ]
  },
  {
   "cell_type": "code",
   "execution_count": 3,
   "metadata": {},
   "outputs": [],
   "source": [
    "def test_lilanet_size_check():\n",
    "    num_classes, height, width = 8, 128, 1200\n",
    "\n",
    "    model = LiLaNet(num_classes)  # .to('cuda')\n",
    "    # 四个参数分别是：batch_size, channels, height, width\n",
    "    inp = torch.randn(8, 1, height, width)  # .to('cuda')\n",
    "\n",
    "    out = model(inp, inp)\n",
    "    assert out.size() == torch.Size([8, num_classes, height, width])\n",
    "\n",
    "\n",
    "test_lilanet_size_check()"
   ]
  },
  {
   "cell_type": "code",
   "execution_count": 4,
   "metadata": {},
   "outputs": [],
   "source": [
    "def test_mistnet_size_check():\n",
    "    num_classes, height, width = 2, 128, 1024\n",
    "\n",
    "    model = MistNet(num_classes)  # .to('cuda')\n",
    "    inp = torch.randn(5, 1, height, width)  # .to('cuda')\n",
    "\n",
    "    out = model(inp, inp, inp)\n",
    "    assert out.size() == torch.Size([5, num_classes, height, width])\n",
    "\n",
    "\n",
    "test_mistnet_size_check()"
   ]
  }
 ],
 "metadata": {
  "kernelspec": {
   "display_name": "Python (noising)",
   "language": "python",
   "name": "nosing"
  },
  "language_info": {
   "codemirror_mode": {
    "name": "ipython",
    "version": 3
   },
   "file_extension": ".py",
   "mimetype": "text/x-python",
   "name": "python",
   "nbconvert_exporter": "python",
   "pygments_lexer": "ipython3",
   "version": "3.12.2"
  },
  "metadata": {
   "interpreter": {
    "hash": "a23a2d6909c68acaee8cdc174eaa8f4ab01509589aa59c1ab9b2bf57fe831546"
   }
  }
 },
 "nbformat": 4,
 "nbformat_minor": 2
}
